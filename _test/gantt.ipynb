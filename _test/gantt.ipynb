{
 "cells": [
  {
   "cell_type": "code",
   "execution_count": 18,
   "metadata": {
    "collapsed": true,
    "ExecuteTime": {
     "end_time": "2024-06-24T10:22:13.906350100Z",
     "start_time": "2024-06-24T10:22:13.895350200Z"
    }
   },
   "outputs": [],
   "source": [
    "# N = int(input())\n",
    "# meetings = [tuple(map(int, input().split())) for _ in range(N)]\n",
    "\n",
    "N = 11\n",
    "meetings = [\n",
    "    (1, 4),\n",
    "    (3, 5),\n",
    "    (0, 6),\n",
    "    (5, 7),\n",
    "    (3, 8),\n",
    "    (5, 9),\n",
    "    (6, 10),\n",
    "    (8, 11),\n",
    "    (8, 12),\n",
    "    (2, 13),\n",
    "    (12, 14)\n",
    "]"
   ]
  },
  {
   "cell_type": "code",
   "execution_count": 25,
   "outputs": [
    {
     "name": "stdout",
     "output_type": "stream",
     "text": [
      "1 4\n",
      "last_end_time:  0\n",
      "3 5\n",
      "0 6\n",
      "5 7\n",
      "last_end_time:  4\n",
      "3 8\n",
      "5 9\n",
      "6 10\n",
      "8 11\n",
      "last_end_time:  7\n",
      "8 12\n",
      "2 13\n",
      "12 14\n",
      "last_end_time:  11\n"
     ]
    },
    {
     "data": {
      "text/plain": "4"
     },
     "execution_count": 25,
     "metadata": {},
     "output_type": "execute_result"
    }
   ],
   "source": [
    "def max_meetings(meetings):\n",
    "    # 종료 시간순으로 정렬\n",
    "    meetings.sort(key=lambda x: (x[1], x[0]))\n",
    "\n",
    "    count = 0\n",
    "    last_end_time = 0\n",
    "\n",
    "    for st, end in meetings:\n",
    "        print(st, end)\n",
    "        if st >= last_end_time:\n",
    "            last_end_time = end\n",
    "            count += 1\n",
    "            print(\"last_end_time: \", last_end_time)\n",
    "\n",
    "    return count\n",
    "\n",
    "max_meetings(meetings)"
   ],
   "metadata": {
    "collapsed": false,
    "ExecuteTime": {
     "end_time": "2024-06-24T10:22:18.863301400Z",
     "start_time": "2024-06-24T10:22:18.846275900Z"
    }
   }
  },
  {
   "cell_type": "markdown",
   "source": [
    "정수 X에 사용할 수 있는 연산은 다음과 같이 세 가지 이다.\n",
    "\n",
    "X가 3으로 나누어 떨어지면, 3으로 나눈다.\n",
    "X가 2로 나누어 떨어지면, 2로 나눈다.\n",
    "1을 뺀다.\n",
    "정수 N이 주어졌을 때, 위와 같은 연산 세 개를 적절히 사용해서 1을 만들려고 한다. 연산을 사용하는 횟수의 최솟값을 출력하시오."
   ],
   "metadata": {
    "collapsed": false
   }
  },
  {
   "cell_type": "code",
   "execution_count": 43,
   "outputs": [
    {
     "name": "stdout",
     "output_type": "stream",
     "text": [
      "4\n"
     ]
    }
   ],
   "source": [
    "def operation_divide_three(x):\n",
    "    return x // 3\n",
    "\n",
    "def operation_divide_two(x):\n",
    "    return x // 2\n",
    "\n",
    "def operation_minus(x):\n",
    "    return x - 1\n",
    "\n",
    "def make_one(n, count):\n",
    "    if n == 1:\n",
    "        return count\n",
    "\n",
    "    if n % 3 == 0:\n",
    "        n = operation_divide_three(n)\n",
    "    elif n % 2 == 0:\n",
    "        n = operation_divide_two(n)\n",
    "    else:\n",
    "        n = operation_minus(n)\n",
    "\n",
    "    return make_one(n, count+1)\n",
    "\n",
    "n = 10\n",
    "print(make_one(n, 0))"
   ],
   "metadata": {
    "collapsed": false,
    "ExecuteTime": {
     "end_time": "2024-06-24T10:35:33.429005900Z",
     "start_time": "2024-06-24T10:35:33.421005500Z"
    }
   }
  },
  {
   "cell_type": "code",
   "execution_count": 51,
   "outputs": [],
   "source": [
    "def min_operations(N):\n",
    "    dp = [0] * (N + 1)\n",
    "\n",
    "    for i in range(2, N+1):\n",
    "        dp[i] = dp[i-1] + 1\n",
    "        if i % 2 == 0:\n",
    "            dp[i] = min(dp[i], dp[i // 2] + 1)\n",
    "        if i % 3 == 0:\n",
    "            dp[i] = min(dp[i], dp[i // 3] + 1)\n",
    "\n",
    "    return dp[N]"
   ],
   "metadata": {
    "collapsed": false,
    "ExecuteTime": {
     "end_time": "2024-06-24T10:37:16.660300900Z",
     "start_time": "2024-06-24T10:37:16.643302200Z"
    }
   }
  },
  {
   "cell_type": "code",
   "execution_count": 52,
   "outputs": [
    {
     "data": {
      "text/plain": "3"
     },
     "execution_count": 52,
     "metadata": {},
     "output_type": "execute_result"
    }
   ],
   "source": [
    "min_operations(10)"
   ],
   "metadata": {
    "collapsed": false,
    "ExecuteTime": {
     "end_time": "2024-06-24T10:37:17.009236900Z",
     "start_time": "2024-06-24T10:37:16.978241200Z"
    }
   }
  },
  {
   "cell_type": "code",
   "execution_count": 66,
   "outputs": [],
   "source": [
    "scores = [10, 20, 15, 25, 10, 20]"
   ],
   "metadata": {
    "collapsed": false,
    "ExecuteTime": {
     "end_time": "2024-06-24T10:50:02.964401600Z",
     "start_time": "2024-06-24T10:50:02.957405400Z"
    }
   }
  },
  {
   "cell_type": "markdown",
   "source": [
    "1. 계단은 한 번에 한계단 또는 두 계단씩 오를 수 있음\n",
    "2. 각 계단에는 점수가 있음\n",
    "3. 연속된 세 개의 계단을 밟을 수 없음 (한 계딴을 밟으면 그 다음 두 계단을 연속으로 밟을 수 없음)\n"
   ],
   "metadata": {
    "collapsed": false
   }
  },
  {
   "cell_type": "code",
   "execution_count": 67,
   "outputs": [
    {
     "data": {
      "text/plain": "75"
     },
     "execution_count": 67,
     "metadata": {},
     "output_type": "execute_result"
    }
   ],
   "source": [
    "def max_score(n, scores):\n",
    "    if n == 1:\n",
    "        return scores[0]\n",
    "\n",
    "    elif n == 2:\n",
    "        return scores[0] + scores[1]\n",
    "\n",
    "    dp = [0] * n\n",
    "    dp[0] = scores[0]\n",
    "    dp[1] = scores[0] + scores[1]\n",
    "    dp[2] = max(scores[0] + scores[2], scores[1] + scores[2])\n",
    "\n",
    "    for i in range(3, n):\n",
    "        dp[i] = max(dp[i-2] + scores[i], dp[i-3] + scores[i-1] + scores[i])\n",
    "\n",
    "    return dp[-1]\n",
    "\n",
    "max_score(len(scores), scores)"
   ],
   "metadata": {
    "collapsed": false,
    "ExecuteTime": {
     "end_time": "2024-06-24T10:50:03.531239700Z",
     "start_time": "2024-06-24T10:50:03.523241500Z"
    }
   }
  },
  {
   "cell_type": "code",
   "execution_count": 65,
   "outputs": [],
   "source": [],
   "metadata": {
    "collapsed": false,
    "ExecuteTime": {
     "end_time": "2024-06-24T10:49:59.713363800Z",
     "start_time": "2024-06-24T10:49:59.690333Z"
    }
   }
  },
  {
   "cell_type": "code",
   "execution_count": null,
   "outputs": [],
   "source": [],
   "metadata": {
    "collapsed": false
   }
  }
 ],
 "metadata": {
  "kernelspec": {
   "display_name": "Python 3",
   "language": "python",
   "name": "python3"
  },
  "language_info": {
   "codemirror_mode": {
    "name": "ipython",
    "version": 2
   },
   "file_extension": ".py",
   "mimetype": "text/x-python",
   "name": "python",
   "nbconvert_exporter": "python",
   "pygments_lexer": "ipython2",
   "version": "2.7.6"
  }
 },
 "nbformat": 4,
 "nbformat_minor": 0
}
